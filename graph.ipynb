{
 "cells": [
  {
   "cell_type": "markdown",
   "metadata": {},
   "source": [
    "## Show Radiolaria\n",
    "\n",
    "### Let's calibrate our images\n",
    "\n",
    "* Let's select an image from the first set:\n",
    "\n",
    "![Image not loading](golli.jpg \"C. Golli\")\n",
    "\n",
    "* The dimensions of this image are 1024x768 pixels\n",
    "\n",
    "* Now let's look at the calibration slide for this microscope configuration. (midpoints of minor bars are 10µm apart):\n",
    "\n",
    "![Image not loading](Scale x40.jpg \"C. Golli\")\n",
    "\n",
    "* Take initial measure of distance and rotation:\n",
    "\n",
    "![Image not loading](anglecorrection.png \"C. Golli\")\n",
    "\n",
    "* Verify calibration image has no skew by reversing rotation and placing horizontal and vertical guides:\n",
    "\n",
    "![Image not loading](perpendicularitytest.png \"C. Golli\")\n",
    "\n",
    "\n",
    "### * Calculate pixels per micron:\n"
   ]
  },
  {
   "cell_type": "code",
   "execution_count": 5,
   "metadata": {},
   "outputs": [
    {
     "name": "stdout",
     "output_type": "stream",
     "text": [
      "1781.5/200 = 8.9075\n"
     ]
    }
   ],
   "source": [
    "print(\"1781.5/200 = \"+str(1781.5/200))"
   ]
  },
  {
   "cell_type": "code",
   "execution_count": null,
   "metadata": {},
   "outputs": [],
   "source": [
    "import numpy as np\n",
    "import matplotlib.pyplot as plt\n",
    "\n",
    "def f(t):\n",
    "    return np.exp(-t) * np.cos(2*np.pi*t)\n",
    "\n",
    "t1 = np.arange(0.0, 5.0, 0.1)\n",
    "t2 = np.arange(0.0, 5.0, 0.02)\n",
    "\n",
    "plt.figure(1)\n",
    "plt.title('Microphotograph with units')\n",
    "plt.xlabel('time (s)')\n",
    "plt.plot(t1, f(t1), 'bo', t2, f(t2), 'k')\n",
    "plt.show()\n"
   ]
  },
  {
   "cell_type": "code",
   "execution_count": null,
   "metadata": {
    "collapsed": true
   },
   "outputs": [],
   "source": []
  },
  {
   "cell_type": "code",
   "execution_count": null,
   "metadata": {
    "collapsed": true
   },
   "outputs": [],
   "source": []
  }
 ],
 "metadata": {
  "kernelspec": {
   "display_name": "Python 3",
   "language": "python",
   "name": "python3"
  },
  "language_info": {
   "codemirror_mode": {
    "name": "ipython",
    "version": 3
   },
   "file_extension": ".py",
   "mimetype": "text/x-python",
   "name": "python",
   "nbconvert_exporter": "python",
   "pygments_lexer": "ipython3",
   "version": "3.6.3"
  }
 },
 "nbformat": 4,
 "nbformat_minor": 2
}
