{
 "cells": [
  {
   "cell_type": "markdown",
   "metadata": {},
   "source": [
    "## Show Radiolaria\n",
    "\n",
    "### Let's calibrate our image units\n",
    "\n",
    "* Let's select an image from the first set:\n",
    "\n",
    "![Image not loading](astrelkovi.jpg \"A. Strelkovi\")\n",
    "\n",
    "* The dimensions of this image are 2048x1536 pixels\n",
    "\n",
    "* Now let's look at the calibration slide for this microscope configuration. (midpoints of minor bars are 10µm apart):\n",
    "\n",
    "![Image not loading](Scale x40.jpg \"Calibration bars\")\n",
    "\n",
    "### Do a quick sanity check\n",
    "\n",
    "* Superimpose the two images to see if we are roughly in the size range for Radiolaria:\n",
    "\n",
    "![Image not loading](sanity1.jpg \"Simple overlay of calibration bars and specimen photograph\")\n",
    "\n",
    "Check! Individual is ~ 110µm\n",
    "\n",
    "* Take initial measure of distance and rotation:\n",
    "\n",
    "![Image not loading](anglecorrection.png \"Initial measure\")\n",
    "\n",
    "* Verify calibration image has no skew by reversing rotation and placing horizontal and vertical guides:\n",
    "\n",
    "![Image not loading](perpendicularitytest.png \"Corrected for rotation\")\n"
   ]
  },
  {
   "cell_type": "markdown",
   "metadata": {},
   "source": [
    "\n",
    "### Calculate pixels per micron:"
   ]
  },
  {
   "cell_type": "code",
   "execution_count": 5,
   "metadata": {},
   "outputs": [
    {
     "name": "stdout",
     "output_type": "stream",
     "text": [
      "1781.5/200 = 8.9075\n"
     ]
    }
   ],
   "source": [
    "print(\"1781.5/200 = \"+str(1781.5/200))"
   ]
  },
  {
   "cell_type": "markdown",
   "metadata": {},
   "source": [
    "\n",
    "* Now come up with a coeficient to match 10 pixels per micron"
   ]
  },
  {
   "cell_type": "code",
   "execution_count": 7,
   "metadata": {},
   "outputs": [
    {
     "name": "stdout",
     "output_type": "stream",
     "text": [
      "1.1226494527083917\n"
     ]
    }
   ],
   "source": [
    "print(\"\"+str(10/8.9075))"
   ]
  },
  {
   "cell_type": "markdown",
   "metadata": {},
   "source": [
    "Now we can get to work displaying images with proper units..."
   ]
  }
 ],
 "metadata": {
  "kernelspec": {
   "display_name": "Python 3",
   "language": "python",
   "name": "python3"
  },
  "language_info": {
   "codemirror_mode": {
    "name": "ipython",
    "version": 3
   },
   "file_extension": ".py",
   "mimetype": "text/x-python",
   "name": "python",
   "nbconvert_exporter": "python",
   "pygments_lexer": "ipython3",
   "version": "3.6.3"
  }
 },
 "nbformat": 4,
 "nbformat_minor": 2
}
